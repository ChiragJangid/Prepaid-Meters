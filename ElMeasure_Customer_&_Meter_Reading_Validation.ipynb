{
  "nbformat": 4,
  "nbformat_minor": 0,
  "metadata": {
    "colab": {
      "provenance": [],
      "authorship_tag": "ABX9TyMF+c177f9g6nqYllHazg6w",
      "include_colab_link": true
    },
    "kernelspec": {
      "name": "python3",
      "display_name": "Python 3"
    },
    "language_info": {
      "name": "python"
    }
  },
  "cells": [
    {
      "cell_type": "markdown",
      "metadata": {
        "id": "view-in-github",
        "colab_type": "text"
      },
      "source": [
        "<a href=\"https://colab.research.google.com/github/ChiragJangid/Prepaid-Meters/blob/main/ElMeasure_Customer_%26_Meter_Reading_Validation.ipynb\" target=\"_parent\"><img src=\"https://colab.research.google.com/assets/colab-badge.svg\" alt=\"Open In Colab\"/></a>"
      ]
    },
    {
      "cell_type": "code",
      "source": [
        "import requests\n",
        "\n",
        "def get_meter_reading(ip, port, customer_id, meter_serial_number):\n",
        "    url = f'http://{ip}:{port}/api/Dashboard/MeterReading'\n",
        "    headers = {'Content-Type': 'application/json'}\n",
        "    data = {\n",
        "        \"MeterSerialNumber\": meter_serial_number,\n",
        "        \"CustomerID\": customer_id\n",
        "    }\n",
        "    response = requests.post(url, json=data, headers=headers)\n",
        "    return response.json()\n",
        "\n",
        "def get_customer_validation(ip, port, customer_id):\n",
        "    url = f'http://{ip}:{port}/api/Dashboard/CustomerValidation'\n",
        "    headers = {'Content-Type': 'application/json'}\n",
        "    data = {\n",
        "        \"CustomerID\": customer_id\n",
        "    }\n",
        "    response = requests.post(url, json=data, headers=headers)\n",
        "    return response.json()\n",
        "\n",
        "def main():\n",
        "    # User choice for API operation\n",
        "    choice = input(\"Choose API operation:\\n1. Meter Reading\\n2. Customer Validation\\nEnter choice (1 or 2): \")\n",
        "\n",
        "    if choice == '1':\n",
        "        # User input for Meter Reading API\n",
        "        ip_meter = input(\"Enter IP for Meter Reading API: \")\n",
        "        port_meter = input(\"Enter Port for Meter Reading API: \")\n",
        "        customer_id_meter = input(\"Enter Customer ID for Meter Reading: \")\n",
        "        meter_serial_number = input(\"Enter Meter Serial Number: \")\n",
        "\n",
        "        # Fetching meter reading\n",
        "        meter_response = get_meter_reading(ip_meter, port_meter, customer_id_meter, meter_serial_number)\n",
        "        print(\"Meter Reading Response:\", meter_response)\n",
        "\n",
        "    elif choice == '2':\n",
        "        # User input for Customer Validation API\n",
        "        ip_customer = input(\"Enter IP for Customer Validation API: \")\n",
        "        port_customer = input(\"Enter Port for Customer Validation API: \")\n",
        "        customer_id_customer = input(\"Enter Customer ID for Customer Validation: \")\n",
        "\n",
        "        # Fetching customer validation\n",
        "        customer_response = get_customer_validation(ip_customer, port_customer, customer_id_customer)\n",
        "        print(\"Customer Validation Response:\", customer_response)\n",
        "\n",
        "    else:\n",
        "        print(\"Invalid choice, please run the program again and select either 1 or 2.\")\n",
        "\n",
        "if __name__ == \"__main__\":\n",
        "    main()\n"
      ],
      "metadata": {
        "id": "tQ3vtEQZUeHI"
      },
      "execution_count": null,
      "outputs": []
    }
  ]
}