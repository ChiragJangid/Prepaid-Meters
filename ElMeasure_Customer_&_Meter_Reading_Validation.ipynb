{
  "nbformat": 4,
  "nbformat_minor": 0,
  "metadata": {
    "colab": {
      "provenance": [],
      "authorship_tag": "ABX9TyNpH9jgzoZfqRfLMnmUfNjD",
      "include_colab_link": true
    },
    "kernelspec": {
      "name": "python3",
      "display_name": "Python 3"
    },
    "language_info": {
      "name": "python"
    }
  },
  "cells": [
    {
      "cell_type": "markdown",
      "metadata": {
        "id": "view-in-github",
        "colab_type": "text"
      },
      "source": [
        "<a href=\"https://colab.research.google.com/github/ChiragJangid/Prepaid-Meters/blob/ElMeasureCusomerValidation/ElMeasure_Customer_%26_Meter_Reading_Validation.ipynb\" target=\"_parent\"><img src=\"https://colab.research.google.com/assets/colab-badge.svg\" alt=\"Open In Colab\"/></a>"
      ]
    },
    {
      "cell_type": "code",
      "source": [
        "from IPython.display import HTML\n",
        "\n",
        "html_code = \"\"\"\n",
        "<html lang=\"en\">\n",
        "<head>\n",
        "    <meta charset=\"UTF-8\">\n",
        "    <meta name=\"viewport\" content=\"width=device-width, initial-scale=1.0\">\n",
        "    <title>API Request Interface</title>\n",
        "    <style>\n",
        "        body { font-family: Arial, sans-serif; margin: 20px; }\n",
        "        label, input, button { display: block; margin: 10px 0; }\n",
        "        input, button { width: 300px; padding: 8px; }\n",
        "        button { cursor: pointer; background-color: #4CAF50; color: white; border: none; }\n",
        "        button:hover { background-color: #45a049; }\n",
        "        pre { background-color: #f4f4f4; border: 1px solid #ddd; padding: 10px; }\n",
        "        .section { margin-bottom: 40px; }\n",
        "    </style>\n",
        "</head>\n",
        "<body>\n",
        "    <div class=\"section\">\n",
        "        <h1>ElMeasure Meter Reading Validation</h1>\n",
        "        <form id=\"meterReadingForm\">\n",
        "            <label for=\"meterIpAddress\">IP Address:</label>\n",
        "            <input type=\"text\" id=\"meterIpAddress\" placeholder=\"e.g., 43.230.67.26\" required>\n",
        "\n",
        "            <label for=\"meterPort\">Port:</label>\n",
        "            <input type=\"text\" id=\"meterPort\" placeholder=\"e.g., 9001\" required>\n",
        "\n",
        "            <label for=\"meterSerialNumber\">Meter Serial Number:</label>\n",
        "            <input type=\"text\" id=\"meterSerialNumber\" placeholder=\"Enter Meter Serial Number\" required>\n",
        "\n",
        "            <label for=\"meterCustomerID\">Customer ID:</label>\n",
        "            <input type=\"text\" id=\"meterCustomerID\" placeholder=\"Enter Customer ID\" required>\n",
        "\n",
        "            <button type=\"button\" onclick=\"sendMeterReadingRequest()\">Send Request</button>\n",
        "        </form>\n",
        "        <h2>Meter Reading API Response</h2>\n",
        "        <pre id=\"meterApiResponse\"></pre>\n",
        "    </div>\n",
        "\n",
        "    <div class=\"section\">\n",
        "        <h1>ElMeasure Customer Validation</h1>\n",
        "        <form id=\"customerValidationForm\">\n",
        "            <label for=\"customerIpAddress\">IP Address:</label>\n",
        "            <input type=\"text\" id=\"customerIpAddress\" placeholder=\"e.g., 202.65.148.204\" required>\n",
        "\n",
        "            <label for=\"customerPort\">Port:</label>\n",
        "            <input type=\"text\" id=\"customerPort\" placeholder=\"e.g., 9000\" required>\n",
        "\n",
        "            <label for=\"validationCustomerID\">Customer ID:</label>\n",
        "            <input type=\"text\" id=\"validationCustomerID\" placeholder=\"Enter Customer ID\" required>\n",
        "\n",
        "            <button type=\"button\" onclick=\"sendCustomerValidationRequest()\">Send Request</button>\n",
        "        </form>\n",
        "        <h2>Customer Validation API Response</h2>\n",
        "        <pre id=\"customerApiResponse\"></pre>\n",
        "    </div>\n",
        "\n",
        "    <!-- JavaScript is disabled in this code because it will not execute in Google Colab. -->\n",
        "</body>\n",
        "</html>\n",
        "\"\"\"\n",
        "\n",
        "HTML(html_code)\n"
      ],
      "metadata": {
        "colab": {
          "base_uri": "https://localhost:8080/",
          "height": 899
        },
        "id": "tQ3vtEQZUeHI",
        "outputId": "aa4ea2e2-a51c-4a28-f46d-9c8af6a2fc3e"
      },
      "execution_count": 10,
      "outputs": [
        {
          "output_type": "execute_result",
          "data": {
            "text/plain": [
              "<IPython.core.display.HTML object>"
            ],
            "text/html": [
              "\n",
              "<html lang=\"en\">\n",
              "<head>\n",
              "    <meta charset=\"UTF-8\">\n",
              "    <meta name=\"viewport\" content=\"width=device-width, initial-scale=1.0\">\n",
              "    <title>API Request Interface</title>\n",
              "    <style>\n",
              "        body { font-family: Arial, sans-serif; margin: 20px; }\n",
              "        label, input, button { display: block; margin: 10px 0; }\n",
              "        input, button { width: 300px; padding: 8px; }\n",
              "        button { cursor: pointer; background-color: #4CAF50; color: white; border: none; }\n",
              "        button:hover { background-color: #45a049; }\n",
              "        pre { background-color: #f4f4f4; border: 1px solid #ddd; padding: 10px; }\n",
              "        .section { margin-bottom: 40px; }\n",
              "    </style>\n",
              "</head>\n",
              "<body>\n",
              "    <div class=\"section\">\n",
              "        <h1>ElMeasure Meter Reading Validation</h1>\n",
              "        <form id=\"meterReadingForm\">\n",
              "            <label for=\"meterIpAddress\">IP Address:</label>\n",
              "            <input type=\"text\" id=\"meterIpAddress\" placeholder=\"e.g., 43.230.67.26\" required>\n",
              "\n",
              "            <label for=\"meterPort\">Port:</label>\n",
              "            <input type=\"text\" id=\"meterPort\" placeholder=\"e.g., 9001\" required>\n",
              "\n",
              "            <label for=\"meterSerialNumber\">Meter Serial Number:</label>\n",
              "            <input type=\"text\" id=\"meterSerialNumber\" placeholder=\"Enter Meter Serial Number\" required>\n",
              "\n",
              "            <label for=\"meterCustomerID\">Customer ID:</label>\n",
              "            <input type=\"text\" id=\"meterCustomerID\" placeholder=\"Enter Customer ID\" required>\n",
              "\n",
              "            <button type=\"button\" onclick=\"sendMeterReadingRequest()\">Send Request</button>\n",
              "        </form>\n",
              "        <h2>Meter Reading API Response</h2>\n",
              "        <pre id=\"meterApiResponse\"></pre>\n",
              "    </div>\n",
              "\n",
              "    <div class=\"section\">\n",
              "        <h1>ElMeasure Customer Validation</h1>\n",
              "        <form id=\"customerValidationForm\">\n",
              "            <label for=\"customerIpAddress\">IP Address:</label>\n",
              "            <input type=\"text\" id=\"customerIpAddress\" placeholder=\"e.g., 202.65.148.204\" required>\n",
              "\n",
              "            <label for=\"customerPort\">Port:</label>\n",
              "            <input type=\"text\" id=\"customerPort\" placeholder=\"e.g., 9000\" required>\n",
              "\n",
              "            <label for=\"validationCustomerID\">Customer ID:</label>\n",
              "            <input type=\"text\" id=\"validationCustomerID\" placeholder=\"Enter Customer ID\" required>\n",
              "\n",
              "            <button type=\"button\" onclick=\"sendCustomerValidationRequest()\">Send Request</button>\n",
              "        </form>\n",
              "        <h2>Customer Validation API Response</h2>\n",
              "        <pre id=\"customerApiResponse\"></pre>\n",
              "    </div>\n",
              "\n",
              "    <!-- JavaScript is disabled in this code because it will not execute in Google Colab. -->\n",
              "</body>\n",
              "</html>\n"
            ]
          },
          "metadata": {},
          "execution_count": 10
        }
      ]
    }
  ]
}